{
 "cells": [
  {
   "cell_type": "markdown",
   "metadata": {},
   "source": [
    "# Introduction"
   ]
  },
  {
   "cell_type": "markdown",
   "metadata": {},
   "source": [
    "**cosmogrb** is a package built upon (popsynth)[https://popsynth.readthedocs.io/en/latest/] to simulate GRBs from luminosity functions and various other distributions. Each GRB can be passed through an instrument's response resulting in data when can be later analyzed (preferably with (3ML)[https://threeml.readthedocs.io/en/latest/]). Thus, one can generate catalogs of data from theoretical assumptions an test what these assumptions lead to in terms of observation. \n",
    "\n",
    "The code is currently in alpha "
   ]
  }
 ],
 "metadata": {
  "kernelspec": {
   "display_name": "cosmogrb",
   "language": "python",
   "name": "cosmogrb"
  },
  "language_info": {
   "codemirror_mode": {
    "name": "ipython",
    "version": 3
   },
   "file_extension": ".py",
   "mimetype": "text/x-python",
   "name": "python",
   "nbconvert_exporter": "python",
   "pygments_lexer": "ipython3",
   "version": "3.7.6"
  }
 },
 "nbformat": 4,
 "nbformat_minor": 2
}
